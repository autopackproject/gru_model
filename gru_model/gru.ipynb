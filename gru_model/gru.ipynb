{
 "cells": [
  {
   "cell_type": "code",
   "execution_count": 12,
   "id": "9540568f",
   "metadata": {},
   "outputs": [],
   "source": [
    "import os\n",
    "os.chdir('/home/luyang/dev/gru_model')"
   ]
  },
  {
   "cell_type": "code",
   "execution_count": 13,
   "id": "8e410722-b660-4333-92e1-87b2ba2c4968",
   "metadata": {},
   "outputs": [],
   "source": [
    "import importlib\n",
    "\n",
    "import torch\n",
    "import torch.nn as nn\n",
    "import pandas as pd\n",
    "import common.model as model\n",
    "import common.evaluate as evaluate\n",
    "import common.data_processing as data_processing\n",
    "# from common import model\n",
    "# from common import evaluate\n",
    "# from common import data_processing\n",
    "from torch.utils.data import Dataset, DataLoader"
   ]
  },
  {
   "cell_type": "code",
   "execution_count": 14,
   "id": "493759a8",
   "metadata": {},
   "outputs": [],
   "source": [
    "from gru_model import gru\n"
   ]
  },
  {
   "cell_type": "code",
   "execution_count": 4,
   "id": "7dda71d4",
   "metadata": {},
   "outputs": [],
   "source": [
    "dataset=''"
   ]
  },
  {
   "cell_type": "code",
   "execution_count": 1,
   "id": "0e1be22c",
   "metadata": {},
   "outputs": [
    {
     "ename": "NameError",
     "evalue": "name 'importlib' is not defined",
     "output_type": "error",
     "traceback": [
      "\u001b[0;31m---------------------------------------------------------------------------\u001b[0m",
      "\u001b[0;31mNameError\u001b[0m                                 Traceback (most recent call last)",
      "Cell \u001b[0;32mIn[1], line 1\u001b[0m\n\u001b[0;32m----> 1\u001b[0m importlib\u001b[39m.\u001b[39mreload(gru)\n\u001b[1;32m      2\u001b[0m importlib\u001b[39m.\u001b[39mreload(evaluate)\n\u001b[1;32m      3\u001b[0m gru\u001b[39m.\u001b[39mget_index(\u001b[39m\"\u001b[39m\u001b[39m /egsf\u001b[39m\u001b[39m\"\u001b[39m)\n",
      "\u001b[0;31mNameError\u001b[0m: name 'importlib' is not defined"
     ]
    }
   ],
   "source": [
    "importlib.reload(gru)\n",
    "importlib.reload(evaluate)\n",
    "gru.get_index(\" /egsf\")"
   ]
  },
  {
   "cell_type": "code",
   "execution_count": 2,
   "id": "e2622d09",
   "metadata": {},
   "outputs": [
    {
     "ename": "NameError",
     "evalue": "name 'importlib' is not defined",
     "output_type": "error",
     "traceback": [
      "\u001b[0;31m---------------------------------------------------------------------------\u001b[0m",
      "\u001b[0;31mNameError\u001b[0m                                 Traceback (most recent call last)",
      "Cell \u001b[0;32mIn[2], line 2\u001b[0m\n\u001b[1;32m      1\u001b[0m \u001b[39m#This function allows us to loop through the data to train on three different BATCH SIZES\u001b[39;00m\n\u001b[0;32m----> 2\u001b[0m importlib\u001b[39m.\u001b[39mreload(gru)\n\u001b[1;32m      3\u001b[0m importlib\u001b[39m.\u001b[39mreload(evaluate)\n\u001b[1;32m      4\u001b[0m \u001b[39mfor\u001b[39;00m b \u001b[39min\u001b[39;00m [\u001b[39m32\u001b[39m, \u001b[39m64\u001b[39m, \u001b[39m128\u001b[39m]:\n",
      "\u001b[0;31mNameError\u001b[0m: name 'importlib' is not defined"
     ]
    }
   ],
   "source": [
    "#This function allows us to loop through the data to train on three different BATCH SIZES\n",
    "importlib.reload(gru)\n",
    "importlib.reload(evaluate)\n",
    "for b in [32, 64, 128]:\n",
    "    rnn = gru.RNN('RNNb', batch_size=b)\n",
    "    train, val, max_len = gru.get_data_loaders('input_data/ecal/ecal_data.txt', 'output_data/ecal/ecal.spec')\n",
    "    model.train_model(rnn, train, val)"
   ]
  }
 ],
 "metadata": {
  "kernelspec": {
   "display_name": "Python 3 (ipykernel)",
   "language": "python",
   "name": "python3"
  },
  "language_info": {
   "codemirror_mode": {
    "name": "ipython",
    "version": 3
   },
   "file_extension": ".py",
   "mimetype": "text/x-python",
   "name": "python",
   "nbconvert_exporter": "python",
   "pygments_lexer": "ipython3",
   "version": "3.12.1"
  }
 },
 "nbformat": 4,
 "nbformat_minor": 5
}
