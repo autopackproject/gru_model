{
 "cells": [
  {
   "cell_type": "code",
   "execution_count": 4,
   "id": "9540568f",
   "metadata": {},
   "outputs": [],
   "source": [
    "import os\n",
    "os.chdir('/home/luyang/dev/gru_model')"
   ]
  },
  {
   "cell_type": "code",
   "execution_count": 5,
   "id": "8e410722-b660-4333-92e1-87b2ba2c4968",
   "metadata": {},
   "outputs": [
    {
     "name": "stderr",
     "output_type": "stream",
     "text": [
      "/home/luyang/dev/gru_model/common/data_processing.py:27: SyntaxWarning: invalid escape sequence '\\s'\n",
      "  url = re.search('(?P<url>https?://[^\\s]+)', line).group(\"url\")\n",
      "/home/luyang/dev/gru_model/common/data_processing.py:33: SyntaxWarning: invalid escape sequence '\\s'\n",
      "  url = re.search('(?P<url>https?://[^\\s]+)', line).group(\"url\")\n"
     ]
    }
   ],
   "source": [
    "import importlib\n",
    "\n",
    "import torch\n",
    "import torch.nn as nn\n",
    "import pandas as pd\n",
    "from common import model\n",
    "from common import evaluate\n",
    "from common import data_processing\n",
    "from torch.utils.data import Dataset, DataLoader"
   ]
  },
  {
   "cell_type": "code",
   "execution_count": 15,
   "id": "493759a8",
   "metadata": {},
   "outputs": [],
   "source": [
    "from gru_model import gru\n"
   ]
  },
  {
   "cell_type": "code",
   "execution_count": null,
   "id": "7dda71d4",
   "metadata": {},
   "outputs": [],
   "source": [
    "dataset=''"
   ]
  },
  {
   "cell_type": "code",
   "execution_count": 9,
   "metadata": {},
   "outputs": [
    {
     "name": "stdout",
     "output_type": "stream",
     "text": [
      "torch.Size([2196017, 300])\n"
     ]
    }
   ],
   "source": [
    "importlib.reload(data_processing)\n",
    "# url = data_processing.get_input_from_output('output_data/ecal/ecal.spec')\n",
    "# data_processing.convert_repo_to_strings('input_data/ecal')\n",
    "print(glove.vectors.shape)\n"
   ]
  },
  {
   "cell_type": "code",
   "execution_count": 16,
   "id": "f9b70b15",
   "metadata": {},
   "outputs": [
    {
     "ename": "KeyError",
     "evalue": "'inputs'",
     "output_type": "error",
     "traceback": [
      "\u001b[0;31m---------------------------------------------------------------------------\u001b[0m",
      "\u001b[0;31mKeyError\u001b[0m                                  Traceback (most recent call last)",
      "Cell \u001b[0;32mIn[16], line 2\u001b[0m\n\u001b[1;32m      1\u001b[0m importlib\u001b[39m.\u001b[39mreload(gru)\n\u001b[0;32m----> 2\u001b[0m gru\u001b[39m.\u001b[39;49mget_data_loaders(\u001b[39m'\u001b[39;49m\u001b[39minput_data/ecal/ecal_data.txt\u001b[39;49m\u001b[39m'\u001b[39;49m, \u001b[39m'\u001b[39;49m\u001b[39moutput_data/ecal/ecal.spec\u001b[39;49m\u001b[39m'\u001b[39;49m)\n",
      "File \u001b[0;32m~/dev/gru_model/gru_model/gru.py:118\u001b[0m, in \u001b[0;36mget_data_loaders\u001b[0;34m(path_to_input, path_to_output, batch_size)\u001b[0m\n\u001b[1;32m    115\u001b[0m \u001b[39mwith\u001b[39;00m \u001b[39mopen\u001b[39m(path_to_output, \u001b[39m'\u001b[39m\u001b[39mr\u001b[39m\u001b[39m'\u001b[39m) \u001b[39mas\u001b[39;00m file:\n\u001b[1;32m    116\u001b[0m     output \u001b[39m=\u001b[39m file\u001b[39m.\u001b[39mread()\n\u001b[0;32m--> 118\u001b[0m df[\u001b[39m'\u001b[39;49m\u001b[39minputs\u001b[39;49m\u001b[39m'\u001b[39;49m]\u001b[39m.\u001b[39mappend(\u001b[39minput\u001b[39m\u001b[39m.\u001b[39mencode(\u001b[39m'\u001b[39m\u001b[39municode_escape\u001b[39m\u001b[39m'\u001b[39m))\n\u001b[1;32m    119\u001b[0m df[\u001b[39m'\u001b[39m\u001b[39moutputs\u001b[39m\u001b[39m'\u001b[39m]\u001b[39m.\u001b[39mappend(output\u001b[39m.\u001b[39mencode(\u001b[39m'\u001b[39m\u001b[39municode_escape\u001b[39m\u001b[39m'\u001b[39m))\n\u001b[1;32m    120\u001b[0m \u001b[39mprint\u001b[39m(df[\u001b[39m'\u001b[39m\u001b[39minputs\u001b[39m\u001b[39m'\u001b[39m])\n",
      "\u001b[0;31mKeyError\u001b[0m: 'inputs'"
     ]
    }
   ],
   "source": [
    "importlib.reload(gru)\n",
    "gru.get_data_loaders('input_data/ecal/ecal_data.txt', 'output_data/ecal/ecal.spec')"
   ]
  },
  {
   "cell_type": "code",
   "execution_count": 11,
   "id": "e2622d09",
   "metadata": {},
   "outputs": [
    {
     "ename": "NameError",
     "evalue": "name 'dataset' is not defined",
     "output_type": "error",
     "traceback": [
      "\u001b[0;31m---------------------------------------------------------------------------\u001b[0m",
      "\u001b[0;31mNameError\u001b[0m                                 Traceback (most recent call last)",
      "Cell \u001b[0;32mIn[11], line 4\u001b[0m\n\u001b[1;32m      2\u001b[0m \u001b[39mfor\u001b[39;00m b \u001b[39min\u001b[39;00m [\u001b[39m32\u001b[39m, \u001b[39m64\u001b[39m, \u001b[39m128\u001b[39m]:\n\u001b[1;32m      3\u001b[0m     rnn \u001b[39m=\u001b[39m RNN(\u001b[39m'\u001b[39m\u001b[39mRNNb\u001b[39m\u001b[39m'\u001b[39m, batch_size\u001b[39m=\u001b[39mb)\n\u001b[0;32m----> 4\u001b[0m     train, val, max_len \u001b[39m=\u001b[39m get_data_loaders(dataset, rnn\u001b[39m.\u001b[39mbatch_size)\n\u001b[1;32m      5\u001b[0m     model\u001b[39m.\u001b[39mtrain_model(rnn, train, val)\n",
      "\u001b[0;31mNameError\u001b[0m: name 'dataset' is not defined"
     ]
    }
   ],
   "source": [
    "#This function allows us to loop through the data to train on three different BATCH SIZES\n",
    "for b in [32, 64, 128]:\n",
    "    rnn = RNN('RNNb', batch_size=b)\n",
    "    train, val, max_len = get_data_loaders(dataset, rnn.batch_size)\n",
    "    model.train_model(rnn, train, val)"
   ]
  }
 ],
 "metadata": {
  "kernelspec": {
   "display_name": "Python 3 (ipykernel)",
   "language": "python",
   "name": "python3"
  },
  "language_info": {
   "codemirror_mode": {
    "name": "ipython",
    "version": 3
   },
   "file_extension": ".py",
   "mimetype": "text/x-python",
   "name": "python",
   "nbconvert_exporter": "python",
   "pygments_lexer": "ipython3",
   "version": "3.12.1"
  }
 },
 "nbformat": 4,
 "nbformat_minor": 5
}
