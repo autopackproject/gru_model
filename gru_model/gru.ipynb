{
 "cells": [
  {
   "cell_type": "code",
   "execution_count": 56,
   "id": "9540568f",
   "metadata": {},
   "outputs": [],
   "source": [
    "import os\n",
    "os.chdir('/home/luyang/dev/cpp-to-rpm')"
   ]
  },
  {
   "cell_type": "code",
   "execution_count": 72,
   "id": "8e410722-b660-4333-92e1-87b2ba2c4968",
   "metadata": {},
   "outputs": [],
   "source": [
    "import importlib\n",
    "\n",
    "import torch\n",
    "import torch.nn as nn\n",
    "import pandas as pd\n",
    "from common import model\n",
    "from common import evaluate\n",
    "from common import data_processing\n",
    "from torch.utils.data import Dataset, DataLoader"
   ]
  },
  {
   "cell_type": "code",
   "execution_count": 59,
   "id": "493759a8",
   "metadata": {},
   "outputs": [],
   "source": [
    "from gru_model.gru import *"
   ]
  },
  {
   "cell_type": "code",
   "execution_count": null,
   "id": "7dda71d4",
   "metadata": {},
   "outputs": [],
   "source": [
    "dataset=''"
   ]
  },
  {
   "cell_type": "code",
   "execution_count": 80,
   "metadata": {},
   "outputs": [
    {
     "name": "stderr",
     "output_type": "stream",
     "text": [
      "/home/luyang/dev/cpp-to-rpm/common/data_processing.py:26: SyntaxWarning: invalid escape sequence '\\s'\n",
      "  print(\"URL: \" + url)\n",
      "/home/luyang/dev/cpp-to-rpm/common/data_processing.py:32: SyntaxWarning: invalid escape sequence '\\s'\n"
     ]
    },
    {
     "data": {
      "text/plain": [
       "<_io.BufferedWriter name='input_data/ecal/thirdparty/zlib/my-directory-list.txt'>"
      ]
     },
     "execution_count": 80,
     "metadata": {},
     "output_type": "execute_result"
    }
   ],
   "source": [
    "importlib.reload(data_processing)\n",
    "# url = data_processing.get_input_from_output('output_data/ecal/ecal.spec')\n",
    "data_processing.convert_repo_to_strings('input_data/ecal')\n"
   ]
  },
  {
   "cell_type": "code",
   "execution_count": 78,
   "id": "f9b70b15",
   "metadata": {},
   "outputs": [
    {
     "name": "stdout",
     "output_type": "stream",
     "text": [
      "https://github.com/odra/ecal\n"
     ]
    }
   ],
   "source": []
  },
  {
   "cell_type": "code",
   "execution_count": 10,
   "id": "e2622d09",
   "metadata": {},
   "outputs": [
    {
     "ename": "NameError",
     "evalue": "name 'RNN' is not defined",
     "output_type": "error",
     "traceback": [
      "\u001b[0;31m---------------------------------------------------------------------------\u001b[0m",
      "\u001b[0;31mNameError\u001b[0m                                 Traceback (most recent call last)",
      "Cell \u001b[0;32mIn[10], line 3\u001b[0m\n\u001b[1;32m      1\u001b[0m \u001b[39m#This function allows us to loop through the data to train on three different BATCH SIZES\u001b[39;00m\n\u001b[1;32m      2\u001b[0m \u001b[39mfor\u001b[39;00m b \u001b[39min\u001b[39;00m [\u001b[39m32\u001b[39m, \u001b[39m64\u001b[39m, \u001b[39m128\u001b[39m]:\n\u001b[0;32m----> 3\u001b[0m     rnn_test \u001b[39m=\u001b[39m RNN(\u001b[39m'\u001b[39m\u001b[39mRNNb\u001b[39m\u001b[39m'\u001b[39m, batch_size\u001b[39m=\u001b[39mb)\n\u001b[1;32m      4\u001b[0m     train, val, max_len \u001b[39m=\u001b[39m get_data_loaders(dataset, rnn_test\u001b[39m.\u001b[39mbatch_size)\n\u001b[1;32m      5\u001b[0m     model\u001b[39m.\u001b[39mtrain_model(rnn_test, train, val)\n",
      "\u001b[0;31mNameError\u001b[0m: name 'RNN' is not defined"
     ]
    }
   ],
   "source": [
    "#This function allows us to loop through the data to train on three different BATCH SIZES\n",
    "for b in [32, 64, 128]:\n",
    "    rnn = RNN('RNNb', batch_size=b)\n",
    "    train, val, max_len = get_data_loaders(dataset, rnn.batch_size)\n",
    "    model.train_model(rnn, train, val)"
   ]
  }
 ],
 "metadata": {
  "kernelspec": {
   "display_name": "Python 3 (ipykernel)",
   "language": "python",
   "name": "python3"
  },
  "language_info": {
   "codemirror_mode": {
    "name": "ipython",
    "version": 3
   },
   "file_extension": ".py",
   "mimetype": "text/x-python",
   "name": "python",
   "nbconvert_exporter": "python",
   "pygments_lexer": "ipython3",
   "version": "3.12.1"
  }
 },
 "nbformat": 4,
 "nbformat_minor": 5
}
